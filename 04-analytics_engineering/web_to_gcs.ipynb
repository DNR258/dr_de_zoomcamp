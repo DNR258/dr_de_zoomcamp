{
 "cells": [
  {
   "cell_type": "code",
   "execution_count": 5,
   "metadata": {},
   "outputs": [
    {
     "name": "stdout",
     "output_type": "stream",
     "text": [
      "Local: green_tripdata_2020-01.csv.gz\n"
     ]
    },
    {
     "name": "stderr",
     "output_type": "stream",
     "text": [
      "/tmp/ipykernel_20877/416272974.py:53: DtypeWarning: Columns (3) have mixed types. Specify dtype option on import or set low_memory=False.\n",
      "  df = pd.read_csv(file_name, compression='gzip')\n"
     ]
    },
    {
     "name": "stdout",
     "output_type": "stream",
     "text": [
      "Parquet: green_tripdata_2020-01.parquet\n",
      "GCS: green/green_tripdata_2020-01.parquet\n",
      "Local: green_tripdata_2020-02.csv.gz\n"
     ]
    },
    {
     "name": "stderr",
     "output_type": "stream",
     "text": [
      "/tmp/ipykernel_20877/416272974.py:53: DtypeWarning: Columns (3) have mixed types. Specify dtype option on import or set low_memory=False.\n",
      "  df = pd.read_csv(file_name, compression='gzip')\n"
     ]
    },
    {
     "name": "stdout",
     "output_type": "stream",
     "text": [
      "Parquet: green_tripdata_2020-02.parquet\n",
      "GCS: green/green_tripdata_2020-02.parquet\n",
      "Local: green_tripdata_2020-03.csv.gz\n"
     ]
    },
    {
     "name": "stderr",
     "output_type": "stream",
     "text": [
      "/tmp/ipykernel_20877/416272974.py:53: DtypeWarning: Columns (3) have mixed types. Specify dtype option on import or set low_memory=False.\n",
      "  df = pd.read_csv(file_name, compression='gzip')\n"
     ]
    },
    {
     "name": "stdout",
     "output_type": "stream",
     "text": [
      "Parquet: green_tripdata_2020-03.parquet\n",
      "GCS: green/green_tripdata_2020-03.parquet\n",
      "Local: green_tripdata_2020-04.csv.gz\n",
      "Parquet: green_tripdata_2020-04.parquet\n"
     ]
    },
    {
     "name": "stderr",
     "output_type": "stream",
     "text": [
      "/tmp/ipykernel_20877/416272974.py:53: DtypeWarning: Columns (3) have mixed types. Specify dtype option on import or set low_memory=False.\n",
      "  df = pd.read_csv(file_name, compression='gzip')\n"
     ]
    },
    {
     "name": "stdout",
     "output_type": "stream",
     "text": [
      "GCS: green/green_tripdata_2020-04.parquet\n",
      "Local: green_tripdata_2020-05.csv.gz\n",
      "Parquet: green_tripdata_2020-05.parquet\n"
     ]
    },
    {
     "name": "stderr",
     "output_type": "stream",
     "text": [
      "/tmp/ipykernel_20877/416272974.py:53: DtypeWarning: Columns (3) have mixed types. Specify dtype option on import or set low_memory=False.\n",
      "  df = pd.read_csv(file_name, compression='gzip')\n"
     ]
    },
    {
     "name": "stdout",
     "output_type": "stream",
     "text": [
      "GCS: green/green_tripdata_2020-05.parquet\n",
      "Local: green_tripdata_2020-06.csv.gz\n",
      "Parquet: green_tripdata_2020-06.parquet\n",
      "GCS: green/green_tripdata_2020-06.parquet\n",
      "Local: green_tripdata_2020-07.csv.gz\n"
     ]
    },
    {
     "name": "stderr",
     "output_type": "stream",
     "text": [
      "/tmp/ipykernel_20877/416272974.py:53: DtypeWarning: Columns (3) have mixed types. Specify dtype option on import or set low_memory=False.\n",
      "  df = pd.read_csv(file_name, compression='gzip')\n"
     ]
    },
    {
     "name": "stdout",
     "output_type": "stream",
     "text": [
      "Parquet: green_tripdata_2020-07.parquet\n",
      "GCS: green/green_tripdata_2020-07.parquet\n",
      "Local: green_tripdata_2020-08.csv.gz\n"
     ]
    },
    {
     "name": "stderr",
     "output_type": "stream",
     "text": [
      "/tmp/ipykernel_20877/416272974.py:53: DtypeWarning: Columns (3) have mixed types. Specify dtype option on import or set low_memory=False.\n",
      "  df = pd.read_csv(file_name, compression='gzip')\n"
     ]
    },
    {
     "name": "stdout",
     "output_type": "stream",
     "text": [
      "Parquet: green_tripdata_2020-08.parquet\n",
      "GCS: green/green_tripdata_2020-08.parquet\n",
      "Local: green_tripdata_2020-09.csv.gz\n"
     ]
    },
    {
     "name": "stderr",
     "output_type": "stream",
     "text": [
      "/tmp/ipykernel_20877/416272974.py:53: DtypeWarning: Columns (3) have mixed types. Specify dtype option on import or set low_memory=False.\n",
      "  df = pd.read_csv(file_name, compression='gzip')\n"
     ]
    },
    {
     "name": "stdout",
     "output_type": "stream",
     "text": [
      "Parquet: green_tripdata_2020-09.parquet\n",
      "GCS: green/green_tripdata_2020-09.parquet\n",
      "Local: green_tripdata_2020-10.csv.gz\n"
     ]
    },
    {
     "name": "stderr",
     "output_type": "stream",
     "text": [
      "/tmp/ipykernel_20877/416272974.py:53: DtypeWarning: Columns (3) have mixed types. Specify dtype option on import or set low_memory=False.\n",
      "  df = pd.read_csv(file_name, compression='gzip')\n"
     ]
    },
    {
     "name": "stdout",
     "output_type": "stream",
     "text": [
      "Parquet: green_tripdata_2020-10.parquet\n",
      "GCS: green/green_tripdata_2020-10.parquet\n",
      "Local: green_tripdata_2020-11.csv.gz\n"
     ]
    },
    {
     "name": "stderr",
     "output_type": "stream",
     "text": [
      "/tmp/ipykernel_20877/416272974.py:53: DtypeWarning: Columns (3) have mixed types. Specify dtype option on import or set low_memory=False.\n",
      "  df = pd.read_csv(file_name, compression='gzip')\n"
     ]
    },
    {
     "name": "stdout",
     "output_type": "stream",
     "text": [
      "Parquet: green_tripdata_2020-11.parquet\n",
      "GCS: green/green_tripdata_2020-11.parquet\n",
      "Local: green_tripdata_2020-12.csv.gz\n"
     ]
    },
    {
     "name": "stderr",
     "output_type": "stream",
     "text": [
      "/tmp/ipykernel_20877/416272974.py:53: DtypeWarning: Columns (3) have mixed types. Specify dtype option on import or set low_memory=False.\n",
      "  df = pd.read_csv(file_name, compression='gzip')\n"
     ]
    },
    {
     "name": "stdout",
     "output_type": "stream",
     "text": [
      "Parquet: green_tripdata_2020-12.parquet\n",
      "GCS: green/green_tripdata_2020-12.parquet\n"
     ]
    }
   ],
   "source": [
    "import io\n",
    "import os\n",
    "import requests\n",
    "import pandas as pd\n",
    "from google.cloud import storage\n",
    "\n",
    "\"\"\"\n",
    "Pre-reqs: \n",
    "1. `pip install pandas pyarrow google-cloud-storage`\n",
    "2. Set GOOGLE_APPLICATION_CREDENTIALS to your project/service-account key\n",
    "3. Set GCP_GCS_BUCKET as your bucket or change default value of BUCKET\n",
    "\"\"\"\n",
    "\n",
    "# services = ['fhv','green','yellow']\n",
    "init_url = 'https://github.com/DataTalksClub/nyc-tlc-data/releases/download/'\n",
    "# switch out the bucketname\n",
    "BUCKET = \"ny-taxi-datalake-88\"\n",
    "os.environ['GOOGLE_APPLICATION_CREDENTIALS']='/home/drios/data-engineering-zoomcamp/dr_de_zoomcamp/04-analytics_engineering/my-creds.json'\n",
    "\n",
    "\n",
    "def upload_to_gcs(bucket, object_name, local_file):\n",
    "    \"\"\"\n",
    "    Ref: https://cloud.google.com/storage/docs/uploading-objects#storage-upload-object-python\n",
    "    \"\"\"\n",
    "    # # WORKAROUND to prevent timeout for files > 6 MB on 800 kbps upload speed.\n",
    "    # # (Ref: https://github.com/googleapis/python-storage/issues/74)\n",
    "    storage.blob._MAX_MULTIPART_SIZE = 5 * 1024 * 1024  # 5 MB\n",
    "    storage.blob._DEFAULT_CHUNKSIZE = 5 * 1024 * 1024  # 5 MB\n",
    "\n",
    "    client = storage.Client()\n",
    "    bucket = client.bucket(bucket)\n",
    "    blob = bucket.blob(object_name)\n",
    "    blob.upload_from_filename(local_file)\n",
    "\n",
    "\n",
    "def web_to_gcs(year, service):\n",
    "    for i in range(12):\n",
    "        \n",
    "        # sets the month part of the file_name string\n",
    "        month = '0'+str(i+1)\n",
    "        month = month[-2:]\n",
    "\n",
    "        # csv file_name\n",
    "        file_name = f\"{service}_tripdata_{year}-{month}.csv.gz\"\n",
    "\n",
    "        # download it using requests via a pandas df\n",
    "        request_url = f\"{init_url}{service}/{file_name}\"\n",
    "        r = requests.get(request_url)\n",
    "        open(file_name, 'wb').write(r.content)\n",
    "        print(f\"Local: {file_name}\")\n",
    "\n",
    "        # read it back into a parquet file\n",
    "        df = pd.read_csv(file_name, compression='gzip')\n",
    "        file_name = file_name.replace('.csv.gz', '.parquet')\n",
    "        df.to_parquet(file_name, engine='pyarrow')\n",
    "        print(f\"Parquet: {file_name}\")\n",
    "\n",
    "        # upload it to gcs \n",
    "        upload_to_gcs(BUCKET, f\"{service}/{file_name}\", file_name)\n",
    "        print(f\"GCS: {service}/{file_name}\")\n",
    "\n",
    "\n",
    "# web_to_gcs('2019', 'green')\n",
    "# web_to_gcs('2020', 'green')\n",
    "# web_to_gcs('2019', 'yellow')\n",
    "# web_to_gcs('2020', 'yellow')\n",
    "# web_to_gcs('2019', 'fhv')"
   ]
  },
  {
   "cell_type": "code",
   "execution_count": 12,
   "metadata": {},
   "outputs": [
    {
     "name": "stdout",
     "output_type": "stream",
     "text": [
      "0\n",
      "1\n",
      "2\n",
      "3\n"
     ]
    }
   ],
   "source": [
    "for i in range(4):\n",
    "    print(i)\n"
   ]
  }
 ],
 "metadata": {
  "kernelspec": {
   "display_name": "ml-zoomcampCurr",
   "language": "python",
   "name": "python3"
  },
  "language_info": {
   "codemirror_mode": {
    "name": "ipython",
    "version": 3
   },
   "file_extension": ".py",
   "mimetype": "text/x-python",
   "name": "python",
   "nbconvert_exporter": "python",
   "pygments_lexer": "ipython3",
   "version": "3.10.13"
  }
 },
 "nbformat": 4,
 "nbformat_minor": 2
}
