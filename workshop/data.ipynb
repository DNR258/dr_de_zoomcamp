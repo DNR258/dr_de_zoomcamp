{
 "cells": [
  {
   "cell_type": "code",
   "execution_count": 1,
   "metadata": {},
   "outputs": [],
   "source": [
    "data = [ { \"vendor_name\": \"VTS\", \"record_hash\": \"b00361a396177a9cb410ff61f20015ad\", \"time\": { \"pickup\": \"2009-06-14 23:23:00\", \"dropoff\": \"2009-06-14 23:48:00\" }, \"Trip_Distance\": 17.52, \"coordinates\": { \"start\": { \"lon\": -73.787442, \"lat\": 40.641525 }, \"end\": { \"lon\": -73.980072, \"lat\": 40.742963 } }, \"Rate_Code\": None, \"store_and_forward\": None, \"Payment\": {\n",
    "\"type\": \"Credit\", \"amt\": 20.5, \"surcharge\": 0, \"mta_tax\": None, \"tip\": 9, \"tolls\": 4.15, \"status\": \"booked\" }, \"Passenger_Count\": 2, \"passengers\": [ {\"name\": \"John\", \"rating\": 4.9}, {\"name\": \"Jack\", \"rating\": 3.9} ], \"Stops\": [ {\"lon\": -73.6, \"lat\": 40.6}, {\"lon\": -73.5, \"lat\": 40.5} ] }, ]"
   ]
  },
  {
   "cell_type": "code",
   "execution_count": 3,
   "metadata": {},
   "outputs": [],
   "source": [
    "import pandas as pd\n",
    "import dlt"
   ]
  },
  {
   "cell_type": "code",
   "execution_count": 4,
   "metadata": {},
   "outputs": [],
   "source": [
    "pipeline = dlt.pipeline(pipeline_name=\"taxi_data\", destination='duckdb', dataset_name='taxi_rides')"
   ]
  },
  {
   "cell_type": "code",
   "execution_count": 5,
   "metadata": {},
   "outputs": [],
   "source": [
    "info = pipeline.run(data, table_name=\"users\", write_disposition=\"replace\")"
   ]
  },
  {
   "cell_type": "code",
   "execution_count": 6,
   "metadata": {},
   "outputs": [
    {
     "name": "stdout",
     "output_type": "stream",
     "text": [
      "Pipeline taxi_data load step completed in 3.23 seconds\n",
      "1 load package(s) were loaded to destination duckdb and into dataset taxi_rides\n",
      "The duckdb destination used duckdb:////home/drios/data-engineering-zoomcamp/dr_de_zoomcamp/workshop/taxi_data.duckdb location to store data\n",
      "Load package 1707077542.9445527 is LOADED and contains no failed jobs\n"
     ]
    }
   ],
   "source": [
    "print(info)"
   ]
  },
  {
   "cell_type": "code",
   "execution_count": 7,
   "metadata": {},
   "outputs": [
    {
     "ename": "SyntaxError",
     "evalue": "invalid syntax (1374329661.py, line 1)",
     "output_type": "error",
     "traceback": [
      "\u001b[0;36m  Cell \u001b[0;32mIn[7], line 1\u001b[0;36m\u001b[0m\n\u001b[0;31m    dlt pipeline taxi_data show\u001b[0m\n\u001b[0m        ^\u001b[0m\n\u001b[0;31mSyntaxError\u001b[0m\u001b[0;31m:\u001b[0m invalid syntax\n"
     ]
    }
   ],
   "source": []
  }
 ],
 "metadata": {
  "kernelspec": {
   "display_name": "base",
   "language": "python",
   "name": "python3"
  },
  "language_info": {
   "codemirror_mode": {
    "name": "ipython",
    "version": 3
   },
   "file_extension": ".py",
   "mimetype": "text/x-python",
   "name": "python",
   "nbconvert_exporter": "python",
   "pygments_lexer": "ipython3",
   "version": "3.10.13"
  }
 },
 "nbformat": 4,
 "nbformat_minor": 2
}
