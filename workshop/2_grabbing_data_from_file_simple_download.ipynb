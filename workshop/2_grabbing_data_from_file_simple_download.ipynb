{
 "cells": [
  {
   "cell_type": "code",
   "execution_count": 1,
   "metadata": {},
   "outputs": [],
   "source": [
    "import requests\n",
    "import json\n",
    "\n",
    "url = \"https://storage.googleapis.com/dtc_zoomcamp_api/yellow_tripdata_2009-06.jsonl\""
   ]
  },
  {
   "cell_type": "code",
   "execution_count": 2,
   "metadata": {},
   "outputs": [],
   "source": [
    "def download_and_read_json(url):\n",
    "    response = requests.get(url)\n",
    "    response.raise_for_status()  # raise an HTTPError for bad responses\n",
    "    data = response.text.splitlines()\n",
    "    parsed_data = [json.loads(line) for line in data]\n",
    "    return parsed_data\n"
   ]
  },
  {
   "cell_type": "code",
   "execution_count": 3,
   "metadata": {},
   "outputs": [],
   "source": [
    "downloaded_data = download_and_read_json(url)"
   ]
  },
  {
   "cell_type": "code",
   "execution_count": 4,
   "metadata": {},
   "outputs": [
    {
     "name": "stdout",
     "output_type": "stream",
     "text": [
      "[{'vendor_name': 'VTS', 'Trip_Pickup_DateTime': '2009-06-14 23:23:00', 'Trip_Dropoff_DateTime': '2009-06-14 23:48:00', 'Passenger_Count': 1, 'Trip_Distance': 17.52, 'Start_Lon': -73.787442, 'Start_Lat': 40.641525, 'Rate_Code': None, 'store_and_forward': None, 'End_Lon': -73.980072, 'End_Lat': 40.742963, 'Payment_Type': 'Credit', 'Fare_Amt': 45.0, 'surcharge': 0.0, 'mta_tax': None, 'Tip_Amt': 9.0, 'Tolls_Amt': 4.15, 'Total_Amt': 58.15}, {'vendor_name': 'VTS', 'Trip_Pickup_DateTime': '2009-06-18 17:35:00', 'Trip_Dropoff_DateTime': '2009-06-18 17:43:00', 'Passenger_Count': 1, 'Trip_Distance': 1.56, 'Start_Lon': -74.009767, 'Start_Lat': 40.722065, 'Rate_Code': None, 'store_and_forward': None, 'End_Lon': -74.005698, 'End_Lat': 40.740187, 'Payment_Type': 'Credit', 'Fare_Amt': 6.5, 'surcharge': 1.0, 'mta_tax': None, 'Tip_Amt': 1.0, 'Tolls_Amt': 0.0, 'Total_Amt': 8.5}, {'vendor_name': 'VTS', 'Trip_Pickup_DateTime': '2009-06-10 18:08:00', 'Trip_Dropoff_DateTime': '2009-06-10 18:27:00', 'Passenger_Count': 5, 'Trip_Distance': 3.37, 'Start_Lon': -73.983038, 'Start_Lat': 40.761945, 'Rate_Code': None, 'store_and_forward': None, 'End_Lon': -74.004745, 'End_Lat': 40.718043, 'Payment_Type': 'Credit', 'Fare_Amt': 12.5, 'surcharge': 1.0, 'mta_tax': None, 'Tip_Amt': 2.0, 'Tolls_Amt': 0.0, 'Total_Amt': 15.5}, {'vendor_name': 'VTS', 'Trip_Pickup_DateTime': '2009-06-14 23:54:00', 'Trip_Dropoff_DateTime': '2009-06-14 23:58:00', 'Passenger_Count': 1, 'Trip_Distance': 1.11, 'Start_Lon': -73.992247, 'Start_Lat': 40.749802, 'Rate_Code': None, 'store_and_forward': None, 'End_Lon': -73.985233, 'End_Lat': 40.739637, 'Payment_Type': 'CASH', 'Fare_Amt': 4.9, 'surcharge': 0.5, 'mta_tax': None, 'Tip_Amt': 0.0, 'Tolls_Amt': 0.0, 'Total_Amt': 5.4}, {'vendor_name': 'VTS', 'Trip_Pickup_DateTime': '2009-06-13 13:01:00', 'Trip_Dropoff_DateTime': '2009-06-13 13:23:00', 'Passenger_Count': 1, 'Trip_Distance': 11.09, 'Start_Lon': -73.949233, 'Start_Lat': 40.776825, 'Rate_Code': None, 'store_and_forward': None, 'End_Lon': -73.852693, 'End_Lat': 40.730032, 'Payment_Type': 'CASH', 'Fare_Amt': 25.7, 'surcharge': 0.0, 'mta_tax': None, 'Tip_Amt': 0.0, 'Tolls_Amt': 4.15, 'Total_Amt': 29.85}]\n"
     ]
    }
   ],
   "source": [
    "if downloaded_data:\n",
    "    # process or print the downloaded data as needed\n",
    "    print(downloaded_data[:5])   # print the first 5 entries as an example"
   ]
  }
 ],
 "metadata": {
  "kernelspec": {
   "display_name": "base",
   "language": "python",
   "name": "python3"
  },
  "language_info": {
   "codemirror_mode": {
    "name": "ipython",
    "version": 3
   },
   "file_extension": ".py",
   "mimetype": "text/x-python",
   "name": "python",
   "nbconvert_exporter": "python",
   "pygments_lexer": "ipython3",
   "version": "3.9.12"
  }
 },
 "nbformat": 4,
 "nbformat_minor": 2
}
